{
 "cells": [
  {
   "cell_type": "markdown",
   "metadata": {},
   "source": [
    "# Feature Engineering\n",
    "\n",
    "## 1.0 Imports"
   ]
  },
  {
   "cell_type": "code",
   "execution_count": 1,
   "metadata": {},
   "outputs": [],
   "source": [
    "# High-performance library for numerical computing\n",
    "# Supports multi-dimensional arrays, linear algebra, and high-performance math operations\n",
    "import numpy as np\n",
    "\n",
    "# Versatile data analysis toolkit built on NumPy\n",
    "# Provides powerful tools for handling, merging and analyzing structured data\n",
    "import pandas as pd"
   ]
  },
  {
   "cell_type": "markdown",
   "metadata": {},
   "source": [
    "## 2.0 Multi Table Data Preparation\n",
    "\n",
    "### 2.1 Account Table\n",
    "Static characteristics of accounts.\n",
    "\n",
    "| Item | Meaning | Remark |\n",
    "|:------|:------|:------|\n",
    "| `account_id` | Unique account identifier ||\n",
    "| `district_id` | Branch location ||\n",
    "| `frequency` | Statement issuance frequency | \"POPLATEK MESICNE\" = Monthly <br> \"POPLATEK TYDNE\" = Weekly <br> \"POPLATEK PO OBRATU\" = After transaction |\n",
    "| `date` | Account creation date | Format: YYMMDD |"
   ]
  },
  {
   "cell_type": "code",
   "execution_count": 2,
   "metadata": {},
   "outputs": [],
   "source": [
    "# Reads raw account data from a semicolon-separated file\n",
    "account = pd.read_csv(\n",
    "    '../data/raw-files/account.asc',\n",
    "    sep=';',\n",
    "    # Automatically parses date strings into basic datetime objects for easier time-based operations\n",
    "    parse_dates=['date'],\n",
    "    date_format='%y%m%d'\n",
    "    # Renames columns for better clarity and consistency\n",
    ").rename(columns={'district_id': 'branch_district', 'date': 'account_date'})"
   ]
  },
  {
   "cell_type": "code",
   "execution_count": 3,
   "metadata": {},
   "outputs": [],
   "source": [
    "# Translation dictionary for Czech terms – continuously expanding throughout the notebook\n",
    "dictionary = {\n",
    "    'POPLATEK MESICNE': 'monthly issuance',\n",
    "    'POPLATEK TYDNE': 'weekly issuance',\n",
    "    'POPLATEK PO OBRATU': 'issuance after transaction'\n",
    "}\n",
    "account['frequency'] = account['frequency'].map(dictionary)"
   ]
  },
  {
   "cell_type": "markdown",
   "metadata": {},
   "source": [
    "### 2.2 Loan Table\n",
    "Details of loans granted to each account.\n",
    "\n",
    "| Item | Meaning | Remark |\n",
    "|:------|:------|:------|\n",
    "| `loan_id` | Unique loan identifier ||\n",
    "| `account_id` | Unique account identifier ||\n",
    "| `date` | Loan grant date | in the form YYMMDD |\n",
    "| `amount` | Loan amount ||\n",
    "| `duration` | Loan duration ||\n",
    "| `payments` | Monthly loan payments ||\n",
    "| `status` | Loan repayment status | 'A' = Contract finished, no issues <br> 'B' = Contract finished, loan unpaid <br> 'C' = Active contract, all good <br> 'D' = Active contract, client in debt |"
   ]
  },
  {
   "cell_type": "code",
   "execution_count": 4,
   "metadata": {},
   "outputs": [],
   "source": [
    "loan = pd.read_csv(\n",
    "    '../data/raw-files/loan.asc',\n",
    "    sep=';',\n",
    "    usecols=['account_id', 'date', 'amount', 'duration', 'status'],\n",
    "    parse_dates=['date'],\n",
    "    date_format='%y%m%d'\n",
    ").rename(columns={'date': 'loan_date'})"
   ]
  },
  {
   "cell_type": "markdown",
   "metadata": {},
   "source": [
    "For now, we're only focusing on finished contracts, since we're interested in a classic credit default vs. non-default scenario. While ongoing contracts could technically fit into this approach, their current status wouldn't give us a reliable read on the future."
   ]
  },
  {
   "cell_type": "code",
   "execution_count": 5,
   "metadata": {},
   "outputs": [],
   "source": [
    "loan = loan.query('status in [\"A\", \"B\"]')"
   ]
  },
  {
   "cell_type": "markdown",
   "metadata": {},
   "source": [
    "### 2.3 Transaction Table\n",
    "\n",
    "Dynamic characteristics of transactions in accounts.\n",
    "\n",
    "| Item | Meaning | Remark |\n",
    "|:------|:------|:------|\n",
    "| `trans_id` | Unique transaction identifier ||\n",
    "| `account_id` | Unique account identifier | The account involved in the transaction |\n",
    "| `date` | Transaction date | Format: YYMMDD |\n",
    "| `type` | Transaction type (+/-) | \"PRIJEM\" = Credit <br> \"VYDAJ\" = Withdrawal |\n",
    "| `operation` | Transaction method | \"VYBER KARTOU\" = Credit card withdrawal  <br> \"VKLAD\" = Cash deposit <br> \"PREVOD Z UCTU\" = Incoming bank transfer <br> \"VYBER\" = Cash withdrawal <br> \"PREVOD NA UCET\" = Outgoing bank transfer |\n",
    "| `amount` | Transaction amount ||\n",
    "| `balance` | Account balance after transaction ||\n",
    "| `k_symbol` | Transaction category | \"POJISTNE\" = Insurance payment <br> \"SLUZBY\" = Payment for statement <br> \"UROK\" = Interest credited <br> \"SANKC. UROK\" = Sanction interest (negative balance) <br> \"SIPO\" = Household expenses <br> \"DUCHOD\" = Pension payment <br> \"UVER\" = Loan repayment |\n",
    "| `bank` | Partner’s bank | Each bank has a unique two-letter code |\n",
    "| `account` | Partner’s account ||"
   ]
  },
  {
   "cell_type": "code",
   "execution_count": 6,
   "metadata": {},
   "outputs": [],
   "source": [
    "transaction = pd.read_csv(\n",
    "    '../data/raw-files/trans.asc',\n",
    "    sep=';',\n",
    "    usecols=['account_id', 'date', 'type', 'amount', 'balance', 'k_symbol'],\n",
    "    parse_dates=['date'],\n",
    "    date_format='%y%m%d'\n",
    ").rename(columns={'date': 'trans_date'})"
   ]
  },
  {
   "cell_type": "markdown",
   "metadata": {},
   "source": [
    "The table initially includes transactions from all accounts, regardless of loan approval. To ensure meaningful analysis, we focus only on transactions up to the month before loan approval, excluding the loan month itself. This prevents distortions from incomplete transaction patterns."
   ]
  },
  {
   "cell_type": "code",
   "execution_count": 7,
   "metadata": {},
   "outputs": [],
   "source": [
    "# Performs an INNER JOIN to retain only account_ids with granted loans present in both tables\n",
    "transaction = loan[['account_id', 'loan_date']].merge(transaction, on='account_id', how='inner')\n",
    "\n",
    "# Converts loan and transaction dates into monthly periods\n",
    "transaction = transaction.assign(\n",
    "    loan_month=transaction['loan_date'].dt.to_period('M'),\n",
    "    trans_month=transaction['trans_date'].dt.to_period('M')\n",
    ")\n",
    "\n",
    "transaction = transaction.query('trans_month < loan_month')"
   ]
  },
  {
   "cell_type": "markdown",
   "metadata": {},
   "source": [
    "To further ensure consistency, we also exclude each account's opening month, avoiding biases from incomplete early activity."
   ]
  },
  {
   "cell_type": "code",
   "execution_count": 8,
   "metadata": {},
   "outputs": [],
   "source": [
    "# Identifies the first transaction month for each account\n",
    "opening_months = transaction.groupby('account_id').agg(opening_month=('trans_month', 'first'))\n",
    "transaction = transaction.merge(opening_months, on='account_id')\n",
    "\n",
    "transaction = transaction.query('opening_month < trans_month')"
   ]
  },
  {
   "cell_type": "code",
   "execution_count": 9,
   "metadata": {},
   "outputs": [
    {
     "data": {
      "text/plain": [
       "array(['PRIJEM', 'VYDAJ', 'VYBER'], dtype=object)"
      ]
     },
     "execution_count": 9,
     "metadata": {},
     "output_type": "execute_result"
    }
   ],
   "source": [
    "# Returns unique transaction types\n",
    "transaction['type'].unique()"
   ]
  },
  {
   "cell_type": "markdown",
   "metadata": {},
   "source": [
    "The unique transaction types appear to be somewhat mixed up, with extra entries beyond the original definitions. However, since _VYBER_ refers to cash withdrawals, we can confidently categorize it as withdrawal in this context."
   ]
  },
  {
   "cell_type": "code",
   "execution_count": 10,
   "metadata": {},
   "outputs": [],
   "source": [
    "dictionary.update({\n",
    "    'PRIJEM': 'deposit',\n",
    "    'VYDAJ': 'withdrawal',\n",
    "    'VYBER': 'withdrawal'\n",
    "})\n",
    "transaction['type'] = transaction['type'].map(dictionary)"
   ]
  },
  {
   "cell_type": "markdown",
   "metadata": {},
   "source": [
    "We'll also break down deposits and withdrawals separately to get clearer insights — since they each come with their own patterns and risks."
   ]
  },
  {
   "cell_type": "code",
   "execution_count": 11,
   "metadata": {},
   "outputs": [
    {
     "data": {
      "text/plain": [
       "array([nan, 'UROK', 'SLUZBY', 'POJISTNE', ' ', 'SIPO', 'SANKC. UROK'],\n",
       "      dtype=object)"
      ]
     },
     "execution_count": 11,
     "metadata": {},
     "output_type": "execute_result"
    }
   ],
   "source": [
    "transaction['k_symbol'].unique()"
   ]
  },
  {
   "cell_type": "code",
   "execution_count": 12,
   "metadata": {},
   "outputs": [],
   "source": [
    "dictionary.update({\n",
    "    'UROK': 'interest credited',\n",
    "    'SIPO': 'household',\n",
    "    'POJISTNE': 'insurance',\n",
    "    'SANKC. UROK': 'sanction interest',\n",
    "    ' ': np.nan\n",
    "})\n",
    "transaction['k_symbol'] = transaction['k_symbol'].map(dictionary)"
   ]
  },
  {
   "cell_type": "markdown",
   "metadata": {},
   "source": [
    "#### 2.3.1 Deposit Sub Table"
   ]
  },
  {
   "cell_type": "code",
   "execution_count": 13,
   "metadata": {},
   "outputs": [],
   "source": [
    "# Filters all transactions that are classified as deposit, focusing on relevant columns\n",
    "deposit = transaction.query('type == \"deposit\"')[['account_id', 'trans_month', 'amount', 'k_symbol']]"
   ]
  },
  {
   "cell_type": "code",
   "execution_count": 14,
   "metadata": {},
   "outputs": [
    {
     "data": {
      "text/plain": [
       "array([nan, 'interest credited'], dtype=object)"
      ]
     },
     "execution_count": 14,
     "metadata": {},
     "output_type": "execute_result"
    }
   ],
   "source": [
    "deposit['k_symbol'].unique()"
   ]
  },
  {
   "cell_type": "markdown",
   "metadata": {},
   "source": [
    "When it comes to unclassified deposits, we classify them as _income_ by default. In theory, interest earnings could fall under the same umbrella — but I find it more interesting to keep them separate.\n",
    "\n",
    "Interest is a passive reward — your old money continuing to work for you — while _income_ introduces new money, actively increasing the balance. And while both contribute to financial growth, distinguishing between them could help to better understand the dynamics of money inflows."
   ]
  },
  {
   "cell_type": "code",
   "execution_count": 15,
   "metadata": {},
   "outputs": [],
   "source": [
    "deposit['k_symbol'] = deposit['k_symbol'].fillna('income')"
   ]
  },
  {
   "cell_type": "code",
   "execution_count": 16,
   "metadata": {},
   "outputs": [
    {
     "data": {
      "text/html": [
       "<div>\n",
       "<style scoped>\n",
       "    .dataframe tbody tr th:only-of-type {\n",
       "        vertical-align: middle;\n",
       "    }\n",
       "\n",
       "    .dataframe tbody tr th {\n",
       "        vertical-align: top;\n",
       "    }\n",
       "\n",
       "    .dataframe thead th {\n",
       "        text-align: right;\n",
       "    }\n",
       "</style>\n",
       "<table border=\"1\" class=\"dataframe\">\n",
       "  <thead>\n",
       "    <tr style=\"text-align: right;\">\n",
       "      <th></th>\n",
       "      <th>k_symbol</th>\n",
       "      <th>income</th>\n",
       "      <th>interest credited</th>\n",
       "    </tr>\n",
       "    <tr>\n",
       "      <th>account_id</th>\n",
       "      <th>trans_month</th>\n",
       "      <th></th>\n",
       "      <th></th>\n",
       "    </tr>\n",
       "  </thead>\n",
       "  <tbody>\n",
       "    <tr>\n",
       "      <th rowspan=\"5\" valign=\"top\">2</th>\n",
       "      <th>1993-03</th>\n",
       "      <td>23936.0</td>\n",
       "      <td>13.5</td>\n",
       "    </tr>\n",
       "    <tr>\n",
       "      <th>1993-04</th>\n",
       "      <td>20236.0</td>\n",
       "      <td>109.5</td>\n",
       "    </tr>\n",
       "    <tr>\n",
       "      <th>1993-05</th>\n",
       "      <td>20236.0</td>\n",
       "      <td>144.7</td>\n",
       "    </tr>\n",
       "    <tr>\n",
       "      <th>1993-06</th>\n",
       "      <td>30354.0</td>\n",
       "      <td>159.9</td>\n",
       "    </tr>\n",
       "    <tr>\n",
       "      <th>1993-07</th>\n",
       "      <td>20236.0</td>\n",
       "      <td>203.0</td>\n",
       "    </tr>\n",
       "    <tr>\n",
       "      <th>...</th>\n",
       "      <th>...</th>\n",
       "      <td>...</td>\n",
       "      <td>...</td>\n",
       "    </tr>\n",
       "    <tr>\n",
       "      <th rowspan=\"5\" valign=\"top\">11362</th>\n",
       "      <th>1996-07</th>\n",
       "      <td>16141.0</td>\n",
       "      <td>93.2</td>\n",
       "    </tr>\n",
       "    <tr>\n",
       "      <th>1996-08</th>\n",
       "      <td>16141.0</td>\n",
       "      <td>75.2</td>\n",
       "    </tr>\n",
       "    <tr>\n",
       "      <th>1996-09</th>\n",
       "      <td>16141.0</td>\n",
       "      <td>73.4</td>\n",
       "    </tr>\n",
       "    <tr>\n",
       "      <th>1996-10</th>\n",
       "      <td>16141.0</td>\n",
       "      <td>86.8</td>\n",
       "    </tr>\n",
       "    <tr>\n",
       "      <th>1996-11</th>\n",
       "      <td>16141.0</td>\n",
       "      <td>94.3</td>\n",
       "    </tr>\n",
       "  </tbody>\n",
       "</table>\n",
       "<p>2584 rows × 2 columns</p>\n",
       "</div>"
      ],
      "text/plain": [
       "k_symbol                 income  interest credited\n",
       "account_id trans_month                            \n",
       "2          1993-03      23936.0               13.5\n",
       "           1993-04      20236.0              109.5\n",
       "           1993-05      20236.0              144.7\n",
       "           1993-06      30354.0              159.9\n",
       "           1993-07      20236.0              203.0\n",
       "...                         ...                ...\n",
       "11362      1996-07      16141.0               93.2\n",
       "           1996-08      16141.0               75.2\n",
       "           1996-09      16141.0               73.4\n",
       "           1996-10      16141.0               86.8\n",
       "           1996-11      16141.0               94.3\n",
       "\n",
       "[2584 rows x 2 columns]"
      ]
     },
     "execution_count": 16,
     "metadata": {},
     "output_type": "execute_result"
    }
   ],
   "source": [
    "# Splits deposit amounts across the categories in k_symbol\n",
    "deposit = deposit.pivot_table(\n",
    "    # Groups data by account and transaction month\n",
    "    index=['account_id', 'trans_month'],\n",
    "    # Converts the categories in k_symbol into separate columns\n",
    "    columns='k_symbol',\n",
    "    # Defines the transaction amount to be aggregated\n",
    "    values='amount',\n",
    "    # Aggregates the amounts by summing them for each category\n",
    "    aggfunc='sum',\n",
    "    # Fills in missing values when a category has no transactions for the month\n",
    "    fill_value=0\n",
    ")\n",
    "deposit"
   ]
  },
  {
   "cell_type": "code",
   "execution_count": 17,
   "metadata": {},
   "outputs": [
    {
     "data": {
      "text/html": [
       "<div>\n",
       "<style scoped>\n",
       "    .dataframe tbody tr th:only-of-type {\n",
       "        vertical-align: middle;\n",
       "    }\n",
       "\n",
       "    .dataframe tbody tr th {\n",
       "        vertical-align: top;\n",
       "    }\n",
       "\n",
       "    .dataframe thead th {\n",
       "        text-align: right;\n",
       "    }\n",
       "</style>\n",
       "<table border=\"1\" class=\"dataframe\">\n",
       "  <thead>\n",
       "    <tr style=\"text-align: right;\">\n",
       "      <th></th>\n",
       "      <th>account_id</th>\n",
       "      <th>credits</th>\n",
       "      <th>income</th>\n",
       "      <th>std_income</th>\n",
       "      <th>last_income</th>\n",
       "    </tr>\n",
       "  </thead>\n",
       "  <tbody>\n",
       "    <tr>\n",
       "      <th>0</th>\n",
       "      <td>2</td>\n",
       "      <td>128.930000</td>\n",
       "      <td>22629.600000</td>\n",
       "      <td>4231.425271</td>\n",
       "      <td>30354.0</td>\n",
       "    </tr>\n",
       "    <tr>\n",
       "      <th>1</th>\n",
       "      <td>19</td>\n",
       "      <td>249.090909</td>\n",
       "      <td>18678.818182</td>\n",
       "      <td>3407.710106</td>\n",
       "      <td>17739.0</td>\n",
       "    </tr>\n",
       "    <tr>\n",
       "      <th>2</th>\n",
       "      <td>25</td>\n",
       "      <td>255.268750</td>\n",
       "      <td>62760.562500</td>\n",
       "      <td>44156.718371</td>\n",
       "      <td>36216.0</td>\n",
       "    </tr>\n",
       "    <tr>\n",
       "      <th>3</th>\n",
       "      <td>67</td>\n",
       "      <td>193.711111</td>\n",
       "      <td>44947.500000</td>\n",
       "      <td>7955.344347</td>\n",
       "      <td>41490.0</td>\n",
       "    </tr>\n",
       "    <tr>\n",
       "      <th>4</th>\n",
       "      <td>97</td>\n",
       "      <td>157.021429</td>\n",
       "      <td>20356.000000</td>\n",
       "      <td>4525.256576</td>\n",
       "      <td>17928.0</td>\n",
       "    </tr>\n",
       "    <tr>\n",
       "      <th>...</th>\n",
       "      <td>...</td>\n",
       "      <td>...</td>\n",
       "      <td>...</td>\n",
       "      <td>...</td>\n",
       "      <td>...</td>\n",
       "    </tr>\n",
       "    <tr>\n",
       "      <th>229</th>\n",
       "      <td>11141</td>\n",
       "      <td>184.000000</td>\n",
       "      <td>42507.000000</td>\n",
       "      <td>25704.345988</td>\n",
       "      <td>52556.0</td>\n",
       "    </tr>\n",
       "    <tr>\n",
       "      <th>230</th>\n",
       "      <td>11231</td>\n",
       "      <td>286.171429</td>\n",
       "      <td>47831.714286</td>\n",
       "      <td>8436.545002</td>\n",
       "      <td>44643.0</td>\n",
       "    </tr>\n",
       "    <tr>\n",
       "      <th>231</th>\n",
       "      <td>11265</td>\n",
       "      <td>90.257143</td>\n",
       "      <td>11319.285714</td>\n",
       "      <td>3989.746638</td>\n",
       "      <td>12918.0</td>\n",
       "    </tr>\n",
       "    <tr>\n",
       "      <th>232</th>\n",
       "      <td>11359</td>\n",
       "      <td>168.052381</td>\n",
       "      <td>29586.761905</td>\n",
       "      <td>5434.864376</td>\n",
       "      <td>27014.0</td>\n",
       "    </tr>\n",
       "    <tr>\n",
       "      <th>233</th>\n",
       "      <td>11362</td>\n",
       "      <td>111.846154</td>\n",
       "      <td>17605.769231</td>\n",
       "      <td>3038.639310</td>\n",
       "      <td>16141.0</td>\n",
       "    </tr>\n",
       "  </tbody>\n",
       "</table>\n",
       "<p>234 rows × 5 columns</p>\n",
       "</div>"
      ],
      "text/plain": [
       "     account_id     credits        income    std_income  last_income\n",
       "0             2  128.930000  22629.600000   4231.425271      30354.0\n",
       "1            19  249.090909  18678.818182   3407.710106      17739.0\n",
       "2            25  255.268750  62760.562500  44156.718371      36216.0\n",
       "3            67  193.711111  44947.500000   7955.344347      41490.0\n",
       "4            97  157.021429  20356.000000   4525.256576      17928.0\n",
       "..          ...         ...           ...           ...          ...\n",
       "229       11141  184.000000  42507.000000  25704.345988      52556.0\n",
       "230       11231  286.171429  47831.714286   8436.545002      44643.0\n",
       "231       11265   90.257143  11319.285714   3989.746638      12918.0\n",
       "232       11359  168.052381  29586.761905   5434.864376      27014.0\n",
       "233       11362  111.846154  17605.769231   3038.639310      16141.0\n",
       "\n",
       "[234 rows x 5 columns]"
      ]
     },
     "execution_count": 17,
     "metadata": {},
     "output_type": "execute_result"
    }
   ],
   "source": [
    "# Aggregates deposit data for each account over all months\n",
    "deposit = (\n",
    "    deposit.groupby('account_id')\n",
    "    # Calculates key statistical metrics for each account\n",
    "    .agg(\n",
    "        credits=('interest credited', 'mean'),\n",
    "        income=('income', 'mean'),\n",
    "        std_income=('income', 'std'),\n",
    "        # Pulls the most recent income data per account\n",
    "        last_income=('income', 'last')\n",
    "    )\n",
    "    # Restores account_id as a column after aggregation by resetting the index\n",
    "    .reset_index()\n",
    "    # Fills in missing values that may result from statistical calculations\n",
    "    # For example, NaN can appear in the standard deviation if there is only a single value\n",
    "    .fillna(0)\n",
    ")\n",
    "deposit"
   ]
  },
  {
   "cell_type": "markdown",
   "metadata": {},
   "source": [
    "#### 2.3.2 Withdrawal Sub Table"
   ]
  },
  {
   "cell_type": "code",
   "execution_count": 18,
   "metadata": {},
   "outputs": [],
   "source": [
    "# Filters all transactions that are classified as withdrawal, focusing on relevant columns\n",
    "withdrawal = transaction.query('type == \"withdrawal\"')[['account_id', 'trans_month', 'amount', 'k_symbol']]"
   ]
  },
  {
   "cell_type": "code",
   "execution_count": 19,
   "metadata": {},
   "outputs": [
    {
     "data": {
      "text/plain": [
       "array([nan, 'insurance', 'household', 'sanction interest'], dtype=object)"
      ]
     },
     "execution_count": 19,
     "metadata": {},
     "output_type": "execute_result"
    }
   ],
   "source": [
    "withdrawal['k_symbol'].unique()"
   ]
  },
  {
   "cell_type": "markdown",
   "metadata": {},
   "source": [
    "I'd rather not set up another pivot table for this since we can simply categorize everything as expenses. Household and insurance data don't seem particularly insightful here. The only additional detail we need is whether anyone has ever paid sanctioned interest due to a negative balance."
   ]
  },
  {
   "cell_type": "code",
   "execution_count": 20,
   "metadata": {},
   "outputs": [
    {
     "data": {
      "text/html": [
       "<div>\n",
       "<style scoped>\n",
       "    .dataframe tbody tr th:only-of-type {\n",
       "        vertical-align: middle;\n",
       "    }\n",
       "\n",
       "    .dataframe tbody tr th {\n",
       "        vertical-align: top;\n",
       "    }\n",
       "\n",
       "    .dataframe thead th {\n",
       "        text-align: right;\n",
       "    }\n",
       "</style>\n",
       "<table border=\"1\" class=\"dataframe\">\n",
       "  <thead>\n",
       "    <tr style=\"text-align: right;\">\n",
       "      <th></th>\n",
       "      <th></th>\n",
       "      <th>expenses</th>\n",
       "      <th>sanctions</th>\n",
       "    </tr>\n",
       "    <tr>\n",
       "      <th>account_id</th>\n",
       "      <th>trans_month</th>\n",
       "      <th></th>\n",
       "      <th></th>\n",
       "    </tr>\n",
       "  </thead>\n",
       "  <tbody>\n",
       "    <tr>\n",
       "      <th rowspan=\"5\" valign=\"top\">2</th>\n",
       "      <th>1993-04</th>\n",
       "      <td>11000.0</td>\n",
       "      <td>False</td>\n",
       "    </tr>\n",
       "    <tr>\n",
       "      <th>1993-05</th>\n",
       "      <td>17600.0</td>\n",
       "      <td>False</td>\n",
       "    </tr>\n",
       "    <tr>\n",
       "      <th>1993-06</th>\n",
       "      <td>22400.0</td>\n",
       "      <td>False</td>\n",
       "    </tr>\n",
       "    <tr>\n",
       "      <th>1993-07</th>\n",
       "      <td>26659.6</td>\n",
       "      <td>False</td>\n",
       "    </tr>\n",
       "    <tr>\n",
       "      <th>1993-08</th>\n",
       "      <td>32466.6</td>\n",
       "      <td>False</td>\n",
       "    </tr>\n",
       "    <tr>\n",
       "      <th>...</th>\n",
       "      <th>...</th>\n",
       "      <td>...</td>\n",
       "      <td>...</td>\n",
       "    </tr>\n",
       "    <tr>\n",
       "      <th rowspan=\"5\" valign=\"top\">11362</th>\n",
       "      <th>1996-07</th>\n",
       "      <td>18789.6</td>\n",
       "      <td>False</td>\n",
       "    </tr>\n",
       "    <tr>\n",
       "      <th>1996-08</th>\n",
       "      <td>18049.6</td>\n",
       "      <td>False</td>\n",
       "    </tr>\n",
       "    <tr>\n",
       "      <th>1996-09</th>\n",
       "      <td>15109.6</td>\n",
       "      <td>False</td>\n",
       "    </tr>\n",
       "    <tr>\n",
       "      <th>1996-10</th>\n",
       "      <td>12889.6</td>\n",
       "      <td>False</td>\n",
       "    </tr>\n",
       "    <tr>\n",
       "      <th>1996-11</th>\n",
       "      <td>13509.6</td>\n",
       "      <td>False</td>\n",
       "    </tr>\n",
       "  </tbody>\n",
       "</table>\n",
       "<p>2423 rows × 2 columns</p>\n",
       "</div>"
      ],
      "text/plain": [
       "                        expenses  sanctions\n",
       "account_id trans_month                     \n",
       "2          1993-04       11000.0      False\n",
       "           1993-05       17600.0      False\n",
       "           1993-06       22400.0      False\n",
       "           1993-07       26659.6      False\n",
       "           1993-08       32466.6      False\n",
       "...                          ...        ...\n",
       "11362      1996-07       18789.6      False\n",
       "           1996-08       18049.6      False\n",
       "           1996-09       15109.6      False\n",
       "           1996-10       12889.6      False\n",
       "           1996-11       13509.6      False\n",
       "\n",
       "[2423 rows x 2 columns]"
      ]
     },
     "execution_count": 20,
     "metadata": {},
     "output_type": "execute_result"
    }
   ],
   "source": [
    "# Aggregates withdrawals of all accounts for each month\n",
    "withdrawal = (\n",
    "    withdrawal.groupby(['account_id', 'trans_month'])\n",
    "    .agg(\n",
    "        expenses=('amount', 'sum'),\n",
    "        # Flags accounts with any recorded sanction interest, returning a boolean indicator\n",
    "        sanctions=('k_symbol', lambda x: any(x == 'sanction interest'))\n",
    "    )\n",
    ")\n",
    "withdrawal"
   ]
  },
  {
   "cell_type": "code",
   "execution_count": 21,
   "metadata": {},
   "outputs": [
    {
     "data": {
      "text/html": [
       "<div>\n",
       "<style scoped>\n",
       "    .dataframe tbody tr th:only-of-type {\n",
       "        vertical-align: middle;\n",
       "    }\n",
       "\n",
       "    .dataframe tbody tr th {\n",
       "        vertical-align: top;\n",
       "    }\n",
       "\n",
       "    .dataframe thead th {\n",
       "        text-align: right;\n",
       "    }\n",
       "</style>\n",
       "<table border=\"1\" class=\"dataframe\">\n",
       "  <thead>\n",
       "    <tr style=\"text-align: right;\">\n",
       "      <th></th>\n",
       "      <th>account_id</th>\n",
       "      <th>expenses</th>\n",
       "      <th>std_expenses</th>\n",
       "      <th>last_expenses</th>\n",
       "      <th>sanctions</th>\n",
       "    </tr>\n",
       "  </thead>\n",
       "  <tbody>\n",
       "    <tr>\n",
       "      <th>0</th>\n",
       "      <td>2</td>\n",
       "      <td>22316.066667</td>\n",
       "      <td>8143.521513</td>\n",
       "      <td>34476.6</td>\n",
       "      <td>False</td>\n",
       "    </tr>\n",
       "    <tr>\n",
       "      <th>1</th>\n",
       "      <td>19</td>\n",
       "      <td>20812.480000</td>\n",
       "      <td>15464.987177</td>\n",
       "      <td>21314.6</td>\n",
       "      <td>False</td>\n",
       "    </tr>\n",
       "    <tr>\n",
       "      <th>2</th>\n",
       "      <td>25</td>\n",
       "      <td>64609.560000</td>\n",
       "      <td>41476.355637</td>\n",
       "      <td>88105.6</td>\n",
       "      <td>False</td>\n",
       "    </tr>\n",
       "    <tr>\n",
       "      <th>3</th>\n",
       "      <td>67</td>\n",
       "      <td>43864.022222</td>\n",
       "      <td>17386.321724</td>\n",
       "      <td>40555.6</td>\n",
       "      <td>False</td>\n",
       "    </tr>\n",
       "    <tr>\n",
       "      <th>4</th>\n",
       "      <td>97</td>\n",
       "      <td>20424.738462</td>\n",
       "      <td>8650.948604</td>\n",
       "      <td>13979.6</td>\n",
       "      <td>False</td>\n",
       "    </tr>\n",
       "    <tr>\n",
       "      <th>...</th>\n",
       "      <td>...</td>\n",
       "      <td>...</td>\n",
       "      <td>...</td>\n",
       "      <td>...</td>\n",
       "      <td>...</td>\n",
       "    </tr>\n",
       "    <tr>\n",
       "      <th>227</th>\n",
       "      <td>11141</td>\n",
       "      <td>36358.500000</td>\n",
       "      <td>50389.806055</td>\n",
       "      <td>24784.0</td>\n",
       "      <td>False</td>\n",
       "    </tr>\n",
       "    <tr>\n",
       "      <th>228</th>\n",
       "      <td>11231</td>\n",
       "      <td>48500.200000</td>\n",
       "      <td>27212.235431</td>\n",
       "      <td>69035.6</td>\n",
       "      <td>False</td>\n",
       "    </tr>\n",
       "    <tr>\n",
       "      <th>229</th>\n",
       "      <td>11265</td>\n",
       "      <td>10423.800000</td>\n",
       "      <td>8906.282262</td>\n",
       "      <td>12947.6</td>\n",
       "      <td>False</td>\n",
       "    </tr>\n",
       "    <tr>\n",
       "      <th>230</th>\n",
       "      <td>11359</td>\n",
       "      <td>29702.371429</td>\n",
       "      <td>8132.716730</td>\n",
       "      <td>32749.6</td>\n",
       "      <td>False</td>\n",
       "    </tr>\n",
       "    <tr>\n",
       "      <th>231</th>\n",
       "      <td>11362</td>\n",
       "      <td>17440.533333</td>\n",
       "      <td>5668.678811</td>\n",
       "      <td>13509.6</td>\n",
       "      <td>False</td>\n",
       "    </tr>\n",
       "  </tbody>\n",
       "</table>\n",
       "<p>232 rows × 5 columns</p>\n",
       "</div>"
      ],
      "text/plain": [
       "     account_id      expenses  std_expenses  last_expenses  sanctions\n",
       "0             2  22316.066667   8143.521513        34476.6      False\n",
       "1            19  20812.480000  15464.987177        21314.6      False\n",
       "2            25  64609.560000  41476.355637        88105.6      False\n",
       "3            67  43864.022222  17386.321724        40555.6      False\n",
       "4            97  20424.738462   8650.948604        13979.6      False\n",
       "..          ...           ...           ...            ...        ...\n",
       "227       11141  36358.500000  50389.806055        24784.0      False\n",
       "228       11231  48500.200000  27212.235431        69035.6      False\n",
       "229       11265  10423.800000   8906.282262        12947.6      False\n",
       "230       11359  29702.371429   8132.716730        32749.6      False\n",
       "231       11362  17440.533333   5668.678811        13509.6      False\n",
       "\n",
       "[232 rows x 5 columns]"
      ]
     },
     "execution_count": 21,
     "metadata": {},
     "output_type": "execute_result"
    }
   ],
   "source": [
    "# Aggregates withdrawal data for each account over all months\n",
    "withdrawal = (\n",
    "    withdrawal.groupby('account_id')\n",
    "    .agg(\n",
    "        expenses=('expenses', 'mean'),\n",
    "        std_expenses=('expenses', 'std'),\n",
    "        last_expenses=('expenses', 'last'),\n",
    "        # Flags accounts again with any recorded sanction interest\n",
    "        sanctions=('sanctions', 'any')\n",
    "    )\n",
    "    .reset_index()\n",
    "    .fillna(0)\n",
    ")\n",
    "withdrawal"
   ]
  },
  {
   "cell_type": "markdown",
   "metadata": {},
   "source": [
    "#### 2.3.3 Balance Sub Table"
   ]
  },
  {
   "cell_type": "code",
   "execution_count": 22,
   "metadata": {},
   "outputs": [
    {
     "data": {
      "text/html": [
       "<div>\n",
       "<style scoped>\n",
       "    .dataframe tbody tr th:only-of-type {\n",
       "        vertical-align: middle;\n",
       "    }\n",
       "\n",
       "    .dataframe tbody tr th {\n",
       "        vertical-align: top;\n",
       "    }\n",
       "\n",
       "    .dataframe thead th {\n",
       "        text-align: right;\n",
       "    }\n",
       "</style>\n",
       "<table border=\"1\" class=\"dataframe\">\n",
       "  <thead>\n",
       "    <tr style=\"text-align: right;\">\n",
       "      <th></th>\n",
       "      <th>account_id</th>\n",
       "      <th>trans_month</th>\n",
       "      <th>balance</th>\n",
       "      <th>std_balance</th>\n",
       "      <th>min_balance</th>\n",
       "      <th>max_balance</th>\n",
       "      <th>last_balance</th>\n",
       "    </tr>\n",
       "  </thead>\n",
       "  <tbody>\n",
       "    <tr>\n",
       "      <th>0</th>\n",
       "      <td>2</td>\n",
       "      <td>1993-03</td>\n",
       "      <td>23807.166667</td>\n",
       "      <td>2140.103755</td>\n",
       "      <td>21336.0</td>\n",
       "      <td>25049.5</td>\n",
       "      <td>25049.5</td>\n",
       "    </tr>\n",
       "    <tr>\n",
       "      <th>1</th>\n",
       "      <td>2</td>\n",
       "      <td>1993-04</td>\n",
       "      <td>37988.633333</td>\n",
       "      <td>6319.508640</td>\n",
       "      <td>34285.5</td>\n",
       "      <td>45285.5</td>\n",
       "      <td>34394.9</td>\n",
       "    </tr>\n",
       "    <tr>\n",
       "      <th>2</th>\n",
       "      <td>2</td>\n",
       "      <td>1993-05</td>\n",
       "      <td>42945.800000</td>\n",
       "      <td>10119.852075</td>\n",
       "      <td>37030.9</td>\n",
       "      <td>54630.9</td>\n",
       "      <td>37175.6</td>\n",
       "    </tr>\n",
       "    <tr>\n",
       "      <th>3</th>\n",
       "      <td>2</td>\n",
       "      <td>1993-06</td>\n",
       "      <td>52649.566667</td>\n",
       "      <td>12886.734885</td>\n",
       "      <td>45129.6</td>\n",
       "      <td>67529.6</td>\n",
       "      <td>45289.5</td>\n",
       "    </tr>\n",
       "    <tr>\n",
       "      <th>4</th>\n",
       "      <td>2</td>\n",
       "      <td>1993-07</td>\n",
       "      <td>45104.733333</td>\n",
       "      <td>9313.280046</td>\n",
       "      <td>38880.5</td>\n",
       "      <td>62325.5</td>\n",
       "      <td>39083.5</td>\n",
       "    </tr>\n",
       "    <tr>\n",
       "      <th>...</th>\n",
       "      <td>...</td>\n",
       "      <td>...</td>\n",
       "      <td>...</td>\n",
       "      <td>...</td>\n",
       "      <td>...</td>\n",
       "      <td>...</td>\n",
       "      <td>...</td>\n",
       "    </tr>\n",
       "    <tr>\n",
       "      <th>2579</th>\n",
       "      <td>11362</td>\n",
       "      <td>1996-07</td>\n",
       "      <td>23044.236364</td>\n",
       "      <td>5795.899136</td>\n",
       "      <td>16707.2</td>\n",
       "      <td>35403.6</td>\n",
       "      <td>17921.8</td>\n",
       "    </tr>\n",
       "    <tr>\n",
       "      <th>2580</th>\n",
       "      <td>11362</td>\n",
       "      <td>1996-08</td>\n",
       "      <td>22097.900000</td>\n",
       "      <td>7303.857479</td>\n",
       "      <td>14067.2</td>\n",
       "      <td>30208.2</td>\n",
       "      <td>14888.5</td>\n",
       "    </tr>\n",
       "    <tr>\n",
       "      <th>2581</th>\n",
       "      <td>11362</td>\n",
       "      <td>1996-09</td>\n",
       "      <td>23469.344444</td>\n",
       "      <td>6582.588670</td>\n",
       "      <td>15919.9</td>\n",
       "      <td>31014.9</td>\n",
       "      <td>15993.2</td>\n",
       "    </tr>\n",
       "    <tr>\n",
       "      <th>2582</th>\n",
       "      <td>11362</td>\n",
       "      <td>1996-10</td>\n",
       "      <td>26197.800000</td>\n",
       "      <td>5968.873872</td>\n",
       "      <td>19244.6</td>\n",
       "      <td>32119.6</td>\n",
       "      <td>19331.4</td>\n",
       "    </tr>\n",
       "    <tr>\n",
       "      <th>2583</th>\n",
       "      <td>11362</td>\n",
       "      <td>1996-11</td>\n",
       "      <td>24781.800000</td>\n",
       "      <td>5122.078980</td>\n",
       "      <td>14716.8</td>\n",
       "      <td>30857.8</td>\n",
       "      <td>22057.1</td>\n",
       "    </tr>\n",
       "  </tbody>\n",
       "</table>\n",
       "<p>2584 rows × 7 columns</p>\n",
       "</div>"
      ],
      "text/plain": [
       "      account_id trans_month       balance   std_balance  min_balance  \\\n",
       "0              2     1993-03  23807.166667   2140.103755      21336.0   \n",
       "1              2     1993-04  37988.633333   6319.508640      34285.5   \n",
       "2              2     1993-05  42945.800000  10119.852075      37030.9   \n",
       "3              2     1993-06  52649.566667  12886.734885      45129.6   \n",
       "4              2     1993-07  45104.733333   9313.280046      38880.5   \n",
       "...          ...         ...           ...           ...          ...   \n",
       "2579       11362     1996-07  23044.236364   5795.899136      16707.2   \n",
       "2580       11362     1996-08  22097.900000   7303.857479      14067.2   \n",
       "2581       11362     1996-09  23469.344444   6582.588670      15919.9   \n",
       "2582       11362     1996-10  26197.800000   5968.873872      19244.6   \n",
       "2583       11362     1996-11  24781.800000   5122.078980      14716.8   \n",
       "\n",
       "      max_balance  last_balance  \n",
       "0         25049.5       25049.5  \n",
       "1         45285.5       34394.9  \n",
       "2         54630.9       37175.6  \n",
       "3         67529.6       45289.5  \n",
       "4         62325.5       39083.5  \n",
       "...           ...           ...  \n",
       "2579      35403.6       17921.8  \n",
       "2580      30208.2       14888.5  \n",
       "2581      31014.9       15993.2  \n",
       "2582      32119.6       19331.4  \n",
       "2583      30857.8       22057.1  \n",
       "\n",
       "[2584 rows x 7 columns]"
      ]
     },
     "execution_count": 22,
     "metadata": {},
     "output_type": "execute_result"
    }
   ],
   "source": [
    "# Aggregates balance of all accounts for each month\n",
    "balance = (\n",
    "    transaction.groupby(['account_id', 'trans_month'])\n",
    "    .agg(\n",
    "        balance=('balance', 'mean'),\n",
    "        std_balance=('balance', 'std'),\n",
    "        min_balance=('balance', 'min'),\n",
    "        max_balance=('balance', 'max'),\n",
    "        last_balance=('balance', 'last')\n",
    "    )\n",
    "    .reset_index()\n",
    ")\n",
    "balance"
   ]
  },
  {
   "cell_type": "code",
   "execution_count": 23,
   "metadata": {},
   "outputs": [
    {
     "data": {
      "text/html": [
       "<div>\n",
       "<style scoped>\n",
       "    .dataframe tbody tr th:only-of-type {\n",
       "        vertical-align: middle;\n",
       "    }\n",
       "\n",
       "    .dataframe tbody tr th {\n",
       "        vertical-align: top;\n",
       "    }\n",
       "\n",
       "    .dataframe thead th {\n",
       "        text-align: right;\n",
       "    }\n",
       "</style>\n",
       "<table border=\"1\" class=\"dataframe\">\n",
       "  <thead>\n",
       "    <tr style=\"text-align: right;\">\n",
       "      <th></th>\n",
       "      <th>account_id</th>\n",
       "      <th>balance</th>\n",
       "      <th>std_balance</th>\n",
       "      <th>min_balance</th>\n",
       "      <th>max_balance</th>\n",
       "      <th>last_balance</th>\n",
       "    </tr>\n",
       "  </thead>\n",
       "  <tbody>\n",
       "    <tr>\n",
       "      <th>0</th>\n",
       "      <td>2</td>\n",
       "      <td>34712.963175</td>\n",
       "      <td>8182.558442</td>\n",
       "      <td>10508.0</td>\n",
       "      <td>67529.6</td>\n",
       "      <td>27855.2</td>\n",
       "    </tr>\n",
       "    <tr>\n",
       "      <th>1</th>\n",
       "      <td>19</td>\n",
       "      <td>29237.219300</td>\n",
       "      <td>8439.779831</td>\n",
       "      <td>3592.7</td>\n",
       "      <td>58157.5</td>\n",
       "      <td>16315.0</td>\n",
       "    </tr>\n",
       "    <tr>\n",
       "      <th>2</th>\n",
       "      <td>25</td>\n",
       "      <td>60429.613832</td>\n",
       "      <td>17896.754239</td>\n",
       "      <td>16700.0</td>\n",
       "      <td>119652.7</td>\n",
       "      <td>40024.5</td>\n",
       "    </tr>\n",
       "    <tr>\n",
       "      <th>3</th>\n",
       "      <td>67</td>\n",
       "      <td>55077.743519</td>\n",
       "      <td>17781.971353</td>\n",
       "      <td>17413.7</td>\n",
       "      <td>107069.6</td>\n",
       "      <td>23703.8</td>\n",
       "    </tr>\n",
       "    <tr>\n",
       "      <th>4</th>\n",
       "      <td>97</td>\n",
       "      <td>36650.692720</td>\n",
       "      <td>8086.971763</td>\n",
       "      <td>11502.9</td>\n",
       "      <td>60334.7</td>\n",
       "      <td>40548.9</td>\n",
       "    </tr>\n",
       "    <tr>\n",
       "      <th>...</th>\n",
       "      <td>...</td>\n",
       "      <td>...</td>\n",
       "      <td>...</td>\n",
       "      <td>...</td>\n",
       "      <td>...</td>\n",
       "      <td>...</td>\n",
       "    </tr>\n",
       "    <tr>\n",
       "      <th>229</th>\n",
       "      <td>11141</td>\n",
       "      <td>50877.992381</td>\n",
       "      <td>11500.270510</td>\n",
       "      <td>13467.0</td>\n",
       "      <td>106467.0</td>\n",
       "      <td>80916.0</td>\n",
       "    </tr>\n",
       "    <tr>\n",
       "      <th>230</th>\n",
       "      <td>11231</td>\n",
       "      <td>66444.853900</td>\n",
       "      <td>20364.737397</td>\n",
       "      <td>29988.5</td>\n",
       "      <td>109529.5</td>\n",
       "      <td>43003.3</td>\n",
       "    </tr>\n",
       "    <tr>\n",
       "      <th>231</th>\n",
       "      <td>11265</td>\n",
       "      <td>23911.735714</td>\n",
       "      <td>3688.610718</td>\n",
       "      <td>8618.0</td>\n",
       "      <td>41469.1</td>\n",
       "      <td>18338.6</td>\n",
       "    </tr>\n",
       "    <tr>\n",
       "      <th>232</th>\n",
       "      <td>11359</td>\n",
       "      <td>39743.722449</td>\n",
       "      <td>10987.079643</td>\n",
       "      <td>8615.9</td>\n",
       "      <td>81705.8</td>\n",
       "      <td>25697.2</td>\n",
       "    </tr>\n",
       "    <tr>\n",
       "      <th>233</th>\n",
       "      <td>11362</td>\n",
       "      <td>32202.386900</td>\n",
       "      <td>7464.905804</td>\n",
       "      <td>14067.2</td>\n",
       "      <td>56055.6</td>\n",
       "      <td>22057.1</td>\n",
       "    </tr>\n",
       "  </tbody>\n",
       "</table>\n",
       "<p>234 rows × 6 columns</p>\n",
       "</div>"
      ],
      "text/plain": [
       "     account_id       balance   std_balance  min_balance  max_balance  \\\n",
       "0             2  34712.963175   8182.558442      10508.0      67529.6   \n",
       "1            19  29237.219300   8439.779831       3592.7      58157.5   \n",
       "2            25  60429.613832  17896.754239      16700.0     119652.7   \n",
       "3            67  55077.743519  17781.971353      17413.7     107069.6   \n",
       "4            97  36650.692720   8086.971763      11502.9      60334.7   \n",
       "..          ...           ...           ...          ...          ...   \n",
       "229       11141  50877.992381  11500.270510      13467.0     106467.0   \n",
       "230       11231  66444.853900  20364.737397      29988.5     109529.5   \n",
       "231       11265  23911.735714   3688.610718       8618.0      41469.1   \n",
       "232       11359  39743.722449  10987.079643       8615.9      81705.8   \n",
       "233       11362  32202.386900   7464.905804      14067.2      56055.6   \n",
       "\n",
       "     last_balance  \n",
       "0         27855.2  \n",
       "1         16315.0  \n",
       "2         40024.5  \n",
       "3         23703.8  \n",
       "4         40548.9  \n",
       "..            ...  \n",
       "229       80916.0  \n",
       "230       43003.3  \n",
       "231       18338.6  \n",
       "232       25697.2  \n",
       "233       22057.1  \n",
       "\n",
       "[234 rows x 6 columns]"
      ]
     },
     "execution_count": 23,
     "metadata": {},
     "output_type": "execute_result"
    }
   ],
   "source": [
    "# Aggregates monthly account balances into key reference metrics for all accounts\n",
    "balance = (\n",
    "    balance.groupby('account_id')\n",
    "    .agg(\n",
    "        balance=('balance', 'mean'),\n",
    "        std_balance=('std_balance', 'mean'),\n",
    "        min_balance=('min_balance', 'min'),\n",
    "        max_balance=('max_balance', 'max'),\n",
    "        last_balance=('last_balance', 'last')\n",
    "    )\n",
    "    .reset_index()\n",
    ")\n",
    "balance"
   ]
  },
  {
   "cell_type": "markdown",
   "metadata": {},
   "source": [
    "### 2.4 Permanent Order Table\n",
    "Dynamic characteristics of payment orders issued to accounts.\n",
    "\n",
    "| Item | Meaning | Remark |\n",
    "|:------|:------|:------|\n",
    "| `order_id` | Unique order identifier ||\n",
    "| `account_id` | Unique account identifier ||\n",
    "| `bank_to` | Recipient’s bank | Each bank has a unique two-letter code |\n",
    "| `account_to` | Recipient’s account ||\n",
    "| `amount` | Debited amount ||\n",
    "| `k_symbol` | Payment category | \"POJISTNE\" = Insurance payment <br> \"SIPO\" = Household payment <br> \"LEASING\" = Leasing <br> \"UVER\" = Loan payment |"
   ]
  },
  {
   "cell_type": "code",
   "execution_count": 24,
   "metadata": {},
   "outputs": [],
   "source": [
    "order = pd.read_csv('../data/raw-files/order.asc', sep=';', usecols=['account_id', 'amount', 'k_symbol'])"
   ]
  },
  {
   "cell_type": "markdown",
   "metadata": {},
   "source": [
    "The payment categories align closely with what we already know from the transaction table — insurance and household payments are nothing new. Since every loan account has a permanent order for loan payments, we will cross-check them for leasing payments. If no such accounts exist, this table adds no value to the dataset."
   ]
  },
  {
   "cell_type": "code",
   "execution_count": 25,
   "metadata": {},
   "outputs": [
    {
     "data": {
      "text/plain": [
       "False"
      ]
     },
     "execution_count": 25,
     "metadata": {},
     "output_type": "execute_result"
    }
   ],
   "source": [
    "order = order.query('k_symbol in [\"LEASING\", \"UVER\"]')\n",
    "any(order['account_id'].duplicated())"
   ]
  },
  {
   "cell_type": "markdown",
   "metadata": {},
   "source": [
    "### 2.5 Demographic Table\n",
    "Publicly available informations about the districts.\n",
    "\n",
    "| Item | Meaning | Remark |\n",
    "|:------|:------|:------|\n",
    "| `A1` | District code ||\n",
    "| `A2` | District name ||\n",
    "| `A3` | Region ||\n",
    "| `A4` | Number of inhabitants ||\n",
    "| ... | ... ||\n",
    "| `A9` | Number of cities ||\n",
    "| `A10` | Urban population ratio ||\n",
    "| `A11` | Average salary ||\n",
    "| `A12` (`A13`) | Unemployment rate '95 ('96) ||\n",
    "| `A14` | Entrepreneurs per 1000 inhabitants ||\n",
    "| `A15` (`A16`) | Number of committed crimes '95 ('96) ||"
   ]
  },
  {
   "cell_type": "code",
   "execution_count": 26,
   "metadata": {},
   "outputs": [],
   "source": [
    "district = pd.read_csv(\n",
    "    '../data/raw-files/district.asc', sep=';', usecols=['A1', 'A3', 'A11']\n",
    ").rename(columns={'A1': 'district_id', 'A3': 'region', 'A11': 'average_salary'})"
   ]
  },
  {
   "cell_type": "markdown",
   "metadata": {},
   "source": [
    "Each of the 77 districts has a unique mapping across all columns (except _region_), making it tricky to enforce as a logical rule in the ML-based data synthesizer. Plus, _district_ itself is an excessively large categorical feature, which may pose challenges given the relatively small size of our dataset.\n",
    "\n",
    "A smarter approach could be to group districts by their region and rank them by average salary, reflecting potential economic differences. This ordering also lets us convert _region_ into a numeric feature using ordered label encoding (see the preprocessing section for synthesizers)."
   ]
  },
  {
   "cell_type": "code",
   "execution_count": 27,
   "metadata": {},
   "outputs": [
    {
     "data": {
      "text/plain": [
       "region\n",
       "east Bohemia        8611.181818\n",
       "south Moravia       8728.500000\n",
       "south Bohemia       8831.500000\n",
       "west Bohemia        9015.400000\n",
       "north Moravia       9049.181818\n",
       "north Bohemia       9334.200000\n",
       "central Bohemia     9357.250000\n",
       "Prague             12541.000000\n",
       "Name: average_salary, dtype: float64"
      ]
     },
     "execution_count": 27,
     "metadata": {},
     "output_type": "execute_result"
    }
   ],
   "source": [
    "district.groupby('region')['average_salary'].mean().sort_values()"
   ]
  },
  {
   "cell_type": "markdown",
   "metadata": {},
   "source": [
    "### 2.6 Credit Card Table\n",
    "Details of credit cards issued to each account.\n",
    "\n",
    "| Item | Meaning | Remark |\n",
    "|:------|:------|:------|\n",
    "| `card_id` | Unique card identifier ||\n",
    "| `disp_id` | Unique disposition identifier ||\n",
    "| `type` | Card type | Possible values: \"junior\", \"classic\", \"gold\" |\n",
    "| `issued` | Issue date | Format: YYMMDD |"
   ]
  },
  {
   "cell_type": "code",
   "execution_count": 28,
   "metadata": {},
   "outputs": [],
   "source": [
    "credit_card = pd.read_csv(\n",
    "    '../data/raw-files/card.asc', sep=';', usecols=['disp_id', 'type']\n",
    ").rename(columns={'type': 'card'})"
   ]
  },
  {
   "cell_type": "markdown",
   "metadata": {},
   "source": [
    "### 2.7 Disposition Table\n",
    "Rights of clients with operating accounts.\n",
    "\n",
    "| Item | Meaning | Remark |\n",
    "|:------|:------|:------|\n",
    "| `disp_id` | Unique disposition identifier ||\n",
    "| `client_id` | Unique client identifier ||\n",
    "| `account_id` | Unique account identifier ||\n",
    "| `type` | Disposition type (owner/user) | Only the owner can issue permanent orders and request a loan |"
   ]
  },
  {
   "cell_type": "code",
   "execution_count": 29,
   "metadata": {},
   "outputs": [],
   "source": [
    "disp = pd.read_csv(\n",
    "    '../data/raw-files/disp.asc', sep=';', usecols=['disp_id', 'client_id', 'account_id', 'type']\n",
    ").rename(columns={'type': 'type_disp'})"
   ]
  },
  {
   "cell_type": "code",
   "execution_count": 30,
   "metadata": {},
   "outputs": [],
   "source": [
    "# The query fulfills the ownership constraint for loan-related services\n",
    "disp = disp.query('type_disp == \"OWNER\"')"
   ]
  },
  {
   "cell_type": "markdown",
   "metadata": {},
   "source": [
    "### 2.8 Client Table\n",
    "Client Profile Details.\n",
    "\n",
    "| Item | Meaning | Remark |\n",
    "|:------|:------|:------|\n",
    "| `client_id` | Unique client identifier ||\n",
    "| `birth_number` | Birthday and Gender | Format: YYMMDD for men <br> Format: YYMM+50DD for women   <br> (YYMMDD represents the date of birth) |\n",
    "| `district_id` | Client’s residential district ||"
   ]
  },
  {
   "cell_type": "code",
   "execution_count": 31,
   "metadata": {},
   "outputs": [],
   "source": [
    "client = pd.read_csv('../data/raw-files/client.asc', sep = ';')"
   ]
  },
  {
   "cell_type": "code",
   "execution_count": 32,
   "metadata": {},
   "outputs": [],
   "source": [
    "def decode_birth_number(dataframe):\n",
    "    \"\"\"\n",
    "    This function decodes the client's birth number to extract gender and date of birth\n",
    "    \n",
    "    The birth number consists of six digits (YYMMDD) followed by a four-digit suffix\n",
    "    - For female clients, 5000 is added to the suffix to indicate gender\n",
    "    \"\"\"\n",
    "    \n",
    "    # Identifies female clients based on the last four digits\n",
    "    is_female = dataframe['birth_number'] % 10000 >= 5000\n",
    "    dataframe['gender'] = np.where(is_female, 'female', 'male')\n",
    "    \n",
    "    # Adjusts birth number for females by subtracting 5000\n",
    "    corrected_birth_numbers = dataframe['birth_number'] - is_female * 5000\n",
    "    \n",
    "    # Converts adjusted birth numbers into a proper date of birth\n",
    "    dataframe['date_of_birth'] = pd.to_datetime(corrected_birth_numbers, format=\"%y%m%d\")\n",
    "    \n",
    "    # Fixes incorrect century conversions if necessary\n",
    "    dataframe.loc[dataframe['date_of_birth'].dt.year >= 2000, 'date_of_birth'] -= pd.DateOffset(years=100)\n",
    "    \n",
    "    return dataframe"
   ]
  },
  {
   "cell_type": "code",
   "execution_count": 33,
   "metadata": {},
   "outputs": [],
   "source": [
    "client = decode_birth_number(client)"
   ]
  },
  {
   "cell_type": "markdown",
   "metadata": {},
   "source": [
    "## 3.0 Single Table Data Creation\n",
    "\n",
    "First, we merge our three transaction-related tables into a unified transaction dataset. It first inner joins the _balance_ and _deposit_ tables (both with 234 rows), keeping only matching accounts, then full outer joins the _withdrawal_ table (only 232 rows) to include all accounts, even those with no corresponding withdrawal records."
   ]
  },
  {
   "cell_type": "code",
   "execution_count": 34,
   "metadata": {},
   "outputs": [],
   "source": [
    "transaction = (\n",
    "    balance.merge(deposit, on='account_id')\n",
    "    .merge(withdrawal, on='account_id', how='outer')\n",
    ")"
   ]
  },
  {
   "cell_type": "markdown",
   "metadata": {},
   "source": [
    "Since the full outer join with the _withdrawal_ table introduces missing values for two rows, we need to handle them."
   ]
  },
  {
   "cell_type": "code",
   "execution_count": 35,
   "metadata": {},
   "outputs": [],
   "source": [
    "# Fills all NaN values with 0 since these 2 accounts have no withdrawal records  \n",
    "transaction = transaction.fillna(0)\n",
    "\n",
    "# Converts the sanction interest column back to its original boolean form (filled 0s become False)  \n",
    "transaction['sanctions'] = transaction['sanctions'].astype(bool)"
   ]
  },
  {
   "cell_type": "code",
   "execution_count": 36,
   "metadata": {},
   "outputs": [],
   "source": [
    "owner = (\n",
    "    disp.merge(credit_card, on ='disp_id', how='outer')\n",
    "    .merge(client, on ='client_id')\n",
    ")\n",
    "\n",
    "loan_data = (\n",
    "    loan.merge(transaction, on='account_id')\n",
    "    .merge(owner, on='account_id')\n",
    "    .merge(account, on='account_id')\n",
    "    .merge(district, on='district_id')\n",
    ")"
   ]
  },
  {
   "cell_type": "code",
   "execution_count": 37,
   "metadata": {},
   "outputs": [],
   "source": [
    "loan_data['age'] = (loan_data['loan_date'] - loan_data['date_of_birth']).dt.days // 365.25\n",
    "\n",
    "loan_data['relocation'] = loan_data['district_id'] != loan_data['branch_district']\n",
    "\n",
    "loan_data['account'] = (loan_data['loan_date'] - loan_data['account_date']).dt.days // 7"
   ]
  },
  {
   "cell_type": "code",
   "execution_count": 38,
   "metadata": {},
   "outputs": [],
   "source": [
    "# Rounding all floating-point columns to two decimal places to maintain precision \n",
    "loan_data.update(loan_data.select_dtypes(include='float64').round(2))"
   ]
  },
  {
   "cell_type": "code",
   "execution_count": 39,
   "metadata": {},
   "outputs": [],
   "source": [
    "# Removes redundant informations that are not necessary for further analysis or modelling\n",
    "loan_data = loan_data.drop(\n",
    "    columns=[\n",
    "        'account_date',\n",
    "        'birth_number',\n",
    "        'branch_district',\n",
    "        'client_id',\n",
    "        'date_of_birth',\n",
    "        'disp_id',\n",
    "        'type_disp',\n",
    "        'district_id',\n",
    "        'loan_date',\n",
    "        'average_salary'\n",
    "    ]\n",
    ")"
   ]
  },
  {
   "cell_type": "code",
   "execution_count": 40,
   "metadata": {},
   "outputs": [],
   "source": [
    "# Exporting our finalized loan dataset in an easy-to-share format without an index\n",
    "loan_data.to_csv('../data/loan_data.csv', index=False)"
   ]
  }
 ],
 "metadata": {
  "kernelspec": {
   "display_name": "htw2025",
   "language": "python",
   "name": "python3"
  },
  "language_info": {
   "codemirror_mode": {
    "name": "ipython",
    "version": 3
   },
   "file_extension": ".py",
   "mimetype": "text/x-python",
   "name": "python",
   "nbconvert_exporter": "python",
   "pygments_lexer": "ipython3",
   "version": "3.11.8"
  }
 },
 "nbformat": 4,
 "nbformat_minor": 2
}
